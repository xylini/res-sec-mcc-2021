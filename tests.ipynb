{
 "cells": [
  {
   "cell_type": "code",
   "execution_count": 9,
   "metadata": {
    "collapsed": true,
    "jupyter": {
     "outputs_hidden": true
    }
   },
   "outputs": [],
   "source": [
    "from typing import List, Dict, Tuple\n",
    "from sklearn import linear_model, neighbors\n",
    "import pandas as pd\n",
    "import numpy as np\n",
    "import random\n",
    "\n",
    "U = [\n",
    "    'cloud_commercial',\n",
    "    'cloud_own',\n",
    "    'pc',\n",
    "    'mobile'\n",
    "]\n",
    "\n",
    "C = [\n",
    "    'wifi_public_no_passwd',\n",
    "    'wifi_public_passwd',\n",
    "    'cellular',\n",
    "    'wifi_priv_known',\n",
    "]\n",
    "\n",
    "C_to_lvl = {v:i for i,v in enumerate(C)}\n",
    "\n",
    "where_combined = [\n",
    "    'mobile',\n",
    "    'wifi_pc',\n",
    "    'wifi_cloud',\n",
    "    'cellular_cloud'\n",
    "]\n",
    "\n",
    "MAX_SEC_LEVEL = 4\n",
    "\n",
    "def security_filter(dx: int, is_vpn: bool) -> Tuple[List[str], List[str]]:\n",
    "    Ua: List[str] = []\n",
    "    Ca: List[str] = []\n",
    "\n",
    "    if dx == 0:\n",
    "        Ua = U[:]\n",
    "        Ca = C[:]\n",
    "\n",
    "    else:\n",
    "        if dx == MAX_SEC_LEVEL:\n",
    "            Ua = U[MAX_SEC_LEVEL-1]\n",
    "        else:\n",
    "            Ua = U[dx - 1:]\n",
    "            Ca = C[dx - int(is_vpn):]\n",
    "\n",
    "    return Ca, Ua\n",
    "\n",
    "\n",
    "def linear_regression(x: List[float], y: List[float]) -> linear_model.LinearRegression:\n",
    "    regression = linear_model.LinearRegression()\n",
    "    regression.fit(np.array(x).reshape(-1,1), np.array(y).reshape(-1,1))\n",
    "\n",
    "    return regression\n",
    "\n",
    "\n",
    "def knn(x: List[float], y: List[float]) -> neighbors.KNeighborsRegressor:\n",
    "    neigh = neighbors.KNeighborsRegressor(n_neighbors=3, weights='distance')\n",
    "    neigh.fit(np.array(x).reshape(-1,1), np.array(y).reshape(-1,1))\n",
    "\n",
    "    return neigh\n",
    "\n",
    "def nn(x: List[float], y: List[float]) -> linear_model.LinearRegression:\n",
    "    regression = linear_model.LinearRegression()\n",
    "    regression.fit(np.array(x).reshape(-1,1), np.array(y).reshape(-1,1))\n",
    "\n",
    "    return regression\n",
    "\n",
    "def svm(x: List[float], y: List[float]) -> linear_model.LinearRegression:\n",
    "    regression = linear_model.LinearRegression()\n",
    "    regression.fit(np.array(x).reshape(-1,1), np.array(y).reshape(-1,1))\n",
    "\n",
    "    return regression\n",
    "\n",
    "def naive_bayes(x: List[float], y: List[float]) -> linear_model.LinearRegression:\n",
    "    regression = linear_model.LinearRegression()\n",
    "    regression.fit(np.array(x).reshape(-1,1), np.array(y).reshape(-1,1))\n",
    "\n",
    "    return regression\n",
    "\n",
    "def random_forest(x: List[float], y: List[float]) -> linear_model.LinearRegression:\n",
    "    regression = linear_model.LinearRegression()\n",
    "    regression.fit(np.array(x).reshape(-1,1), np.array(y).reshape(-1,1))\n",
    "\n",
    "    return regression\n",
    "\n",
    "def logistic_regression(x: List[float], y: List[float]) -> linear_model.LinearRegression:\n",
    "    regression = linear_model.LinearRegression()\n",
    "    regression.fit(np.array(x).reshape(-1,1), np.array(y).reshape(-1,1))\n",
    "\n",
    "    return regression\n",
    "\n",
    "def decision_tree(x: List[float], y: List[float]) -> linear_model.LinearRegression:\n",
    "    regression = linear_model.LinearRegression()\n",
    "    regression.fit(np.array(x).reshape(-1,1), np.array(y).reshape(-1,1))\n",
    "\n",
    "    return regression\n",
    "\n",
    "def gradient_boosting(x: List[float], y: List[float]) -> linear_model.LinearRegression:\n",
    "    regression = linear_model.LinearRegression()\n",
    "    regression.fit(np.array(x).reshape(-1,1), np.array(y).reshape(-1,1))\n",
    "\n",
    "    return regression\n",
    "\n",
    "def context_model_predict(jx: float, models: Dict):\n",
    "    # rx = {\n",
    "    #     'mobile': {\n",
    "    #         'battery': models['mobile']['battery'].predict(jx),\n",
    "    #         'time': models['mobile']['time'].predict(jx)\n",
    "    #     },\n",
    "    #     'wifi_pc': {\n",
    "    #         'battery': models['wifi_pc']['battery'].predict(jx),\n",
    "    #         'time': models['wifi_pc']['time'].predict(jx)\n",
    "    #     },\n",
    "    #     'wifi_cloud': {\n",
    "    #         'battery': models['wifi_cloud']['battery'].predict(jx),\n",
    "    #         'time': models['wifi_cloud']['time'].predict(jx)\n",
    "    #     },\n",
    "    #     'cellular_cloud': {\n",
    "    #         'battery': models['cellular_cloud']['battery'].predict(jx),\n",
    "    #         'time': models['cellular_cloud']['time'].predict(jx)\n",
    "    #     }\n",
    "    # }\n",
    "    rx = {\n",
    "        how: {\n",
    "            'battery': models[how]['battery'].predict([[jx]])[0][0],\n",
    "            'time': models[how]['time'].predict([[jx]])[0][0]\n",
    "        } for how in where_combined\n",
    "    }\n",
    "\n",
    "    return rx\n",
    "\n",
    "def where_name(c: str, u: str) -> str:\n",
    "\n",
    "    return c.split('_')[0] + '_' + u.split('_')[0]\n",
    "\n",
    "def choose_optimal_service(rx: Dict, s: Tuple[List[str], List[str]], Cr: List[str], priority: str) -> Tuple[str, str, float, float]:\n",
    "    possible_combinations = []\n",
    "\n",
    "    for c in s[0]:\n",
    "        if c in Cr:\n",
    "            for u in s[1]:\n",
    "                if u == 'mobile':\n",
    "                    continue\n",
    "                if u == 'pc' and c.startswith('wifi'):\n",
    "                    where = where_name(c, u)\n",
    "                    possible_combinations.append((c, u, rx[where]['battery'], rx[where]['time']))\n",
    "                    continue # let's check next possible connection\n",
    "                if u.startswith('cloud') and (c == 'cellular' or c.startswith('wifi')):\n",
    "                    where = where_name(c, u)\n",
    "                    possible_combinations.append((c, u, rx[where]['battery'], rx[where]['time']))\n",
    "                    continue\n",
    "\n",
    "    possible_combinations.append(('none', 'mobile', rx['mobile']['battery'], rx['mobile']['time']))\n",
    "\n",
    "    if priority == 'security':\n",
    "        pass # possible_combinations already ordered by security\n",
    "\n",
    "    elif priority == 'battery':\n",
    "        # since sort is stable than the choice will contain the best security for lowest battery drain\n",
    "        possible_combinations.sort(key=lambda x: x[2], reverse=True)\n",
    "\n",
    "    elif priority == 'speed':\n",
    "        # since sort is stable than the choice will contain the best security for fastest computation\n",
    "        possible_combinations.sort(key=lambda x: x[3], reverse=True)\n",
    "\n",
    "    elif priority == 'general':\n",
    "        # best battery and time in regard to security restrictions\n",
    "        possible_combinations.sort(key=lambda x: x[2], reverse=True)\n",
    "        possible_combinations.sort(key=lambda x: x[3], reverse=True)\n",
    "\n",
    "    elif priority == 'general-not-secure':\n",
    "        possible_combinations.sort(key=lambda x: x[2])\n",
    "        possible_combinations.sort(key=lambda x: x[3])\n",
    "        return possible_combinations[0]\n",
    "\n",
    "    elif priority == 'speed-not-secure':\n",
    "        random.shuffle(possible_combinations)\n",
    "        possible_combinations.sort(key=lambda x: x[3], reverse=True)\n",
    "\n",
    "    elif priority == 'true-random':\n",
    "        random.shuffle(possible_combinations)\n",
    "\n",
    "    return possible_combinations[-1]"
   ]
  },
  {
   "cell_type": "code",
   "execution_count": 10,
   "metadata": {
    "collapsed": false,
    "jupyter": {
     "outputs_hidden": false
    },
    "pycharm": {
     "name": "#%%\n"
    }
   },
   "outputs": [],
   "source": [
    "data = pd.read_csv('./learning_data.csv')"
   ]
  },
  {
   "cell_type": "code",
   "execution_count": 11,
   "metadata": {
    "collapsed": false,
    "jupyter": {
     "outputs_hidden": false
    },
    "pycharm": {
     "name": "#%%\n"
    }
   },
   "outputs": [],
   "source": [
    "models = {\n",
    "    where: {\n",
    "        'battery': linear_regression(list(data[data['where'] == where]['our_metric']), list(data[data['where'] == where]['battery_used'])),\n",
    "        'time': linear_regression(list(data[data['where'] == where]['our_metric']), list(data[data['where'] == where]['time_needed']))\n",
    "    } for where in where_combined\n",
    "}"
   ]
  },
  {
   "cell_type": "code",
   "execution_count": 12,
   "metadata": {
    "collapsed": false,
    "jupyter": {
     "outputs_hidden": false
    },
    "pycharm": {
     "name": "#%%\n"
    }
   },
   "outputs": [],
   "source": [
    "def execute_task(jx: int, dx: int, Cr: List[str], priority: str, isVPN: bool):\n",
    "    rx = context_model_predict(jx, models)\n",
    "    Ca, Ua = security_filter(dx, isVPN)\n",
    "    return choose_optimal_service(rx, (Ca, Ua), Cr, priority)"
   ]
  },
  {
   "cell_type": "code",
   "execution_count": 13,
   "metadata": {
    "collapsed": false,
    "jupyter": {
     "outputs_hidden": false
    },
    "pycharm": {
     "name": "#%%\n"
    }
   },
   "outputs": [],
   "source": [
    "from itertools import combinations\n",
    "from functools import reduce\n",
    "Cr = [\n",
    "    'wifi_public_no_passwd',\n",
    "    'wifi_public_passwd',\n",
    "    'cellular',\n",
    "    'wifi_priv_known',\n",
    "]\n",
    "\n",
    "tasks = list(range(5000, 100000 +1, 5000))\n",
    "# tasks_with_file = [\n",
    "#     ('540x40',3183),\n",
    "#     ('580x680',8463),\n",
    "#     ('600x120',8493),\n",
    "#     ('720x960',83883),\n",
    "#     ('960x480',33574),\n",
    "#     ('960x1280',98774),\n",
    "#     ('1200x1200',17473),\n",
    "#     ('1600x1200',22769),\n",
    "# ]\n",
    "\n",
    "possible_Cr = reduce(lambda a, b: a + b, [list(combinations(Cr, i)) for i in range(4+1)])\n",
    "sec_range = list(range(MAX_SEC_LEVEL+1))\n",
    "possible_priority = ['general', 'general-not-secure', 'battery', 'speed', 'speed-not-secure', 'true-random']\n",
    "# vpn"
   ]
  },
  {
   "cell_type": "code",
   "execution_count": 14,
   "metadata": {
    "collapsed": false,
    "jupyter": {
     "outputs_hidden": false
    },
    "pycharm": {
     "name": "#%%\n"
    }
   },
   "outputs": [],
   "source": [
    "def achieved_security_lvl(connection: str):\n",
    "    if connection == 'none':\n",
    "        return 4\n",
    "    else:\n",
    "        return C_to_lvl[connection]"
   ]
  },
  {
   "cell_type": "code",
   "execution_count": 17,
   "metadata": {
    "collapsed": false,
    "jupyter": {
     "outputs_hidden": false
    },
    "pycharm": {
     "name": "#%%\n"
    }
   },
   "outputs": [],
   "source": [
    "with open('tests.csv', 'w') as fp:\n",
    "    fp.write('task_metric;data_security;with_vpn;available_connections;achieved_security;priority;chosen_connection;chosen_service;predicted_battery;predicted_time\\n')"
   ]
  },
  {
   "cell_type": "code",
   "execution_count": 18,
   "metadata": {
    "collapsed": false,
    "jupyter": {
     "outputs_hidden": false
    },
    "pycharm": {
     "name": "#%%\n"
    }
   },
   "outputs": [
    {
     "name": "stdout",
     "output_type": "stream",
     "text": [
      "With VPN: False\n",
      "0.00\n",
      "0.25\n",
      "0.50\n",
      "0.75\n",
      "1.00\n",
      "With VPN: True\n",
      "0.00\n",
      "0.25\n",
      "0.50\n",
      "0.75\n",
      "1.00\n"
     ]
    }
   ],
   "source": [
    "# task_metric = 5000\n",
    "# data_security = 0\n",
    "# available_connections = ('wifi_public_no_passwd', 'wifi_public_passwd', 'cellular')\n",
    "# security_lvl = 1\n",
    "# priority = 'general'\n",
    "\n",
    "with open('tests_files.csv', 'a') as fp:\n",
    "    for with_vpn in [False, True]:\n",
    "        print('With VPN:', with_vpn)\n",
    "        for index, data_security in enumerate(sec_range):\n",
    "            print('%.2f' % (index/(len(sec_range)-1)))\n",
    "            for available_connections in possible_Cr:\n",
    "                for priority in possible_priority:\n",
    "                    for task_metric in tasks:\n",
    "                        chosen_connection, chosen_service, predicted_battery, predicted_time = execute_task(task_metric, data_security, available_connections, priority, with_vpn)\n",
    "                        achieved_security = achieved_security_lvl(chosen_connection)\n",
    "                        row = f'{task_metric};{data_security};{with_vpn};{available_connections};{achieved_security};{priority};{chosen_connection};{chosen_service};{predicted_battery};{predicted_time}\\n'\n",
    "                        fp.write(row)"
   ]
  },
  {
   "cell_type": "code",
   "execution_count": 230,
   "metadata": {
    "collapsed": false,
    "jupyter": {
     "outputs_hidden": false
    },
    "pycharm": {
     "name": "#%%\n"
    }
   },
   "outputs": [],
   "source": [
    "asdasd = pd.read_csv('tests.csv', sep=';')"
   ]
  },
  {
   "cell_type": "code",
   "execution_count": 231,
   "metadata": {
    "collapsed": false,
    "jupyter": {
     "outputs_hidden": false
    },
    "pycharm": {
     "name": "#%%\n"
    }
   },
   "outputs": [
    {
     "data": {
      "text/plain": [
       "'wifi_public_no_passwd'"
      ]
     },
     "execution_count": 231,
     "metadata": {},
     "output_type": "execute_result"
    }
   ],
   "source": [
    "import ast\n",
    "\n",
    "ast.literal_eval(asdasd['available_connections'][0])[0]"
   ]
  },
  {
   "cell_type": "code",
   "execution_count": 274,
   "metadata": {
    "collapsed": false,
    "jupyter": {
     "outputs_hidden": false
    },
    "pycharm": {
     "name": "#%%\n"
    }
   },
   "outputs": [
    {
     "data": {
      "text/plain": [
       "('wifi_public_no_passwd', 'pc', 0.00626796074171361, 2.1362177397235502)"
      ]
     },
     "execution_count": 274,
     "metadata": {},
     "output_type": "execute_result"
    }
   ],
   "source": [
    "execute_task(55000, 0, Cr, 'general-not-secure', False)"
   ]
  },
  {
   "cell_type": "code",
   "execution_count": null,
   "metadata": {
    "collapsed": false,
    "jupyter": {
     "outputs_hidden": false
    },
    "pycharm": {
     "name": "#%%\n"
    }
   },
   "outputs": [],
   "source": []
  }
 ],
 "metadata": {
  "kernelspec": {
   "display_name": "Python 3",
   "language": "python",
   "name": "python3"
  },
  "language_info": {
   "codemirror_mode": {
    "name": "ipython",
    "version": 3
   },
   "file_extension": ".py",
   "mimetype": "text/x-python",
   "name": "python",
   "nbconvert_exporter": "python",
   "pygments_lexer": "ipython3",
   "version": "3.8.9"
  }
 },
 "nbformat": 4,
 "nbformat_minor": 4
}
