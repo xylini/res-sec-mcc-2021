{
 "cells": [
  {
   "cell_type": "code",
   "execution_count": 1,
   "metadata": {
    "collapsed": true,
    "jupyter": {
     "outputs_hidden": true
    }
   },
   "outputs": [],
   "source": [
    "import pandas as pd\n",
    "import numpy as np\n",
    "import matplotlib.pyplot as plt\n",
    "import ast\n",
    "import random\n",
    "import statistics\n"
   ]
  },
  {
   "cell_type": "code",
   "execution_count": 2,
   "metadata": {
    "collapsed": false,
    "jupyter": {
     "outputs_hidden": false
    },
    "pycharm": {
     "name": "#%%\n"
    }
   },
   "outputs": [],
   "source": [
    "data = pd.read_csv('tests.csv', sep=';')\n",
    "data.available_connections = data.available_connections.apply(ast.literal_eval)\n",
    "data.available_connections = data.available_connections.apply(sorted)\n",
    "data.available_connections = data.available_connections.apply(tuple)"
   ]
  },
  {
   "cell_type": "code",
   "execution_count": 3,
   "metadata": {
    "collapsed": false,
    "jupyter": {
     "outputs_hidden": false
    },
    "pycharm": {
     "name": "#%%\n"
    }
   },
   "outputs": [],
   "source": [
    "def create_sample_tasks(days, per_day, file_name):\n",
    "    C = [\n",
    "        'wifi_public_no_passwd',\n",
    "        'wifi_public_passwd',\n",
    "        'cellular',\n",
    "        'wifi_priv_known',\n",
    "    ]\n",
    "\n",
    "    month_of_tasks = [[(random.choice(range(5000, 100000+1, 5000)), tuple(sorted(random.sample(C, random.choice(range(len(C)))))), random.choice(range(5)), random.choice([True, False])) for __ in range(per_day)] for _ in range(days)]\n",
    "\n",
    "    with open(file_name, 'w') as fp:\n",
    "        fp.write(str(month_of_tasks))\n",
    "    return month_of_tasks\n",
    "\n",
    "def read_sample_tasks(file_name):\n",
    "    with open(file_name, 'r') as fp:\n",
    "        month_of_tasks = ast.literal_eval(fp.read())\n",
    "\n",
    "    return month_of_tasks"
   ]
  },
  {
   "cell_type": "code",
   "execution_count": 4,
   "metadata": {
    "collapsed": false,
    "jupyter": {
     "outputs_hidden": false
    },
    "pycharm": {
     "name": "#%%\n"
    }
   },
   "outputs": [],
   "source": [
    "month_of_tasks = read_sample_tasks('month_of_tasks.txt')"
   ]
  },
  {
   "cell_type": "code",
   "execution_count": null,
   "metadata": {
    "collapsed": false,
    "jupyter": {
     "outputs_hidden": false
    },
    "pycharm": {
     "name": "#%%\n"
    }
   },
   "outputs": [],
   "source": [
    "filtered_by_speed = data[data.with_vpn == False][data.priority == 'speed'].reset_index(drop=True)\n",
    "month_of_tasks_speed = [[\n",
    "    filtered_by_speed[\n",
    "    (filtered_by_speed.task_metric == execution[0]) &\n",
    "    (filtered_by_speed.available_connections == execution[1]) &\n",
    "    (filtered_by_speed.data_security == execution[2])\n",
    "    ]\n",
    "    for execution in day] for day in month_of_tasks]"
   ]
  },
  {
   "cell_type": "code",
   "execution_count": null,
   "metadata": {
    "collapsed": false,
    "jupyter": {
     "outputs_hidden": false
    },
    "pycharm": {
     "name": "#%%\n"
    }
   },
   "outputs": [],
   "source": [
    "filtered_by_speed_no_sec = data[data.with_vpn == False][data.priority == 'speed-not-secure'].reset_index(drop=True)\n",
    "month_of_tasks_speed_no_sec = [[\n",
    "    filtered_by_speed_no_sec[\n",
    "    (filtered_by_speed_no_sec.task_metric == execution[0]) &\n",
    "    (filtered_by_speed_no_sec.available_connections == execution[1]) &\n",
    "    (filtered_by_speed_no_sec.data_security == 0)\n",
    "    ]\n",
    "    for execution in day] for day in month_of_tasks]"
   ]
  },
  {
   "cell_type": "code",
   "execution_count": null,
   "metadata": {
    "collapsed": false,
    "jupyter": {
     "outputs_hidden": false
    },
    "pycharm": {
     "name": "#%%\n"
    }
   },
   "outputs": [],
   "source": [
    "totally_random = data[data.with_vpn == False][data.priority == 'true-random'].reset_index(drop=True)\n",
    "month_totally_random = [[\n",
    "    totally_random[\n",
    "    (totally_random.task_metric == execution[0]) &\n",
    "    (totally_random.available_connections == execution[1]) &\n",
    "    (totally_random.data_security == 0)\n",
    "    ]\n",
    "    for execution in day] for day in month_of_tasks]\n"
   ]
  },
  {
   "cell_type": "code",
   "execution_count": null,
   "metadata": {
    "collapsed": false,
    "jupyter": {
     "outputs_hidden": false
    },
    "pycharm": {
     "name": "#%%\n"
    }
   },
   "outputs": [],
   "source": [
    "# wykres 1\n",
    "x = ['speed and secure', 'speed without secure', 'completely random']\n",
    "y = [\n",
    "    sum([sum([float(task.predicted_time) for task in day])/len(day) for day in month_of_tasks_speed])/len(month_of_tasks_speed),\n",
    "    sum([sum([float(task.predicted_time) for task in day])/len(day) for day in month_of_tasks_speed_no_sec])/len(month_of_tasks_speed_no_sec),\n",
    "    sum([sum([float(task.predicted_time) for task in day])/len(day) for day in month_totally_random])/len(month_totally_random),\n",
    "]\n",
    "stdev = [\n",
    "    np.std([sum([float(task.predicted_time) for task in day])/len(day) for day in month_of_tasks_speed])/2,\n",
    "    np.std([sum([float(task.predicted_time) for task in day])/len(day) for day in month_of_tasks_speed_no_sec])/2,\n",
    "    np.std([sum([float(task.predicted_time) for task in day])/len(day) for day in month_totally_random])/2,\n",
    "]\n",
    "with open('./plots/numberOne.dat', 'w') as fp:\n",
    "    for one, two, three in zip(x, y, stdev):\n",
    "        fp.write(f'{one.capitalize()}, {two}, {three}\\n')\n",
    "plt.errorbar(x,y,stdev)"
   ]
  },
  {
   "cell_type": "code",
   "execution_count": null,
   "metadata": {
    "collapsed": false,
    "jupyter": {
     "outputs_hidden": false
    },
    "pycharm": {
     "name": "#%%\n"
    }
   },
   "outputs": [],
   "source": [
    "# wykres wybranych serwisów w zależności od bezpieczeństwa\n",
    "U = [\n",
    "    'cloud_commercial',\n",
    "    'cloud_own',\n",
    "    'pc',\n",
    "    'mobile'\n",
    "]\n",
    "x = [0,1,2,3,4]\n",
    "y = []\n",
    "for sec in x:\n",
    "    d = {u:0 for u in U}\n",
    "    for day in month_of_tasks_speed:\n",
    "        for task in day:\n",
    "            if (int(task.data_security) == sec):\n",
    "                d[np.array(task.chosen_service)[0]] += 1\n",
    "        # print(d)\n",
    "    y.append([d[u] for u in U])\n",
    "print(y)\n",
    "y = list(zip(*y))\n",
    "for yy in y:\n",
    "    plt.bar(x,yy)"
   ]
  },
  {
   "cell_type": "code",
   "execution_count": null,
   "metadata": {
    "collapsed": false,
    "jupyter": {
     "outputs_hidden": false
    },
    "pycharm": {
     "name": "#%%\n"
    }
   },
   "outputs": [],
   "source": [
    "# wykres 2\n",
    "y = [\n",
    "    sum([sum([float(task.achieved_security) for task in day])/len(day) for day in month_of_tasks_speed])/len(month_of_tasks_speed),\n",
    "    sum([sum([float(task.achieved_security) for task in day])/len(day) for day in month_of_tasks_speed_no_sec])/len(month_of_tasks_speed_no_sec),\n",
    "    sum([sum([float(task.achieved_security) for task in day])/len(day) for day in month_totally_random])/len(month_totally_random),\n",
    "]\n",
    "\n",
    "stdev = [\n",
    "    statistics.stdev([sum([float(task.achieved_security) for task in day])/len(day) for day in month_of_tasks_speed])/2,\n",
    "    statistics.stdev([sum([float(task.achieved_security) for task in day])/len(day) for day in month_of_tasks_speed_no_sec])/2,\n",
    "    statistics.stdev([sum([float(task.achieved_security) for task in day])/len(day) for day in month_totally_random])/2,\n",
    "]\n",
    "\n",
    "with open('./plots/numberTwo.dat', 'w') as fp:\n",
    "    for one, two, three in zip(x, y, stdev):\n",
    "        fp.write(f'{one.capitalize()}, {two}, {three}\\n')\n",
    "\n",
    "plt.bar(x,y)"
   ]
  },
  {
   "cell_type": "code",
   "execution_count": null,
   "metadata": {
    "collapsed": false,
    "jupyter": {
     "outputs_hidden": false
    },
    "pycharm": {
     "name": "#%%\n"
    }
   },
   "outputs": [],
   "source": [
    "# wykres 4\n",
    "x = list(range(5000, 100001, 5000))\n",
    "y_dict = {k:{'sec':[], 'non_sec':[]} for k in x}\n",
    "\n",
    "for day in month_of_tasks_speed:\n",
    "    for task in day:\n",
    "        y_dict[int(task.task_metric)]['sec'].append(float(task.predicted_time))\n",
    "\n",
    "for day in month_of_tasks_speed_no_sec:\n",
    "    for task in day:\n",
    "        y_dict[int(task.task_metric)]['non_sec'].append(float(task.predicted_time))\n",
    "\n",
    "y = [np.mean(y_dict[metric]['sec']) - np.mean(y_dict[metric]['non_sec']) for metric in x]\n",
    "stdev = [np.std(np.array(y_dict[metric]['sec']) - np.array(y_dict[metric]['non_sec'])) for metric in x]\n",
    "\n",
    "with open('./plots/numberFour.dat', 'w') as fp:\n",
    "    for one, two, three in zip(x, y, stdev):\n",
    "        fp.write(f'{one}, {two}, {three}\\n')\n",
    "\n",
    "plt.bar(list(map(str,x)),y)"
   ]
  },
  {
   "cell_type": "code",
   "execution_count": null,
   "metadata": {
    "collapsed": false,
    "jupyter": {
     "outputs_hidden": false
    },
    "pycharm": {
     "name": "#%%\n"
    }
   },
   "outputs": [],
   "source": [
    "y\n",
    "\n"
   ]
  },
  {
   "cell_type": "code",
   "execution_count": null,
   "metadata": {
    "collapsed": false,
    "jupyter": {
     "outputs_hidden": false
    },
    "pycharm": {
     "name": "#%%\n"
    }
   },
   "outputs": [],
   "source": [
    "\n",
    "data_with_files = pd.read_csv('tests_with_files.csv', sep=';')\n",
    "data_with_files.available_connections = data_with_files.available_connections.apply(ast.literal_eval)\n",
    "data_with_files.available_connections = data_with_files.available_connections.apply(sorted)\n",
    "data_with_files.available_connections = data_with_files.available_connections.apply(tuple)"
   ]
  },
  {
   "cell_type": "code",
   "execution_count": null,
   "metadata": {
    "collapsed": false,
    "jupyter": {
     "outputs_hidden": false
    },
    "pycharm": {
     "name": "#%%\n"
    }
   },
   "outputs": [],
   "source": [
    "C = [\n",
    "    'wifi_public_no_passwd',\n",
    "    'wifi_public_passwd',\n",
    "    'cellular',\n",
    "    'wifi_priv_known',\n",
    "]\n",
    "tasks_with_file = [\n",
    "    ('540x40',3183),\n",
    "    ('580x680',8463),\n",
    "    ('600x120',8493),\n",
    "    ('720x960',83883),\n",
    "    ('960x480',33574),\n",
    "    ('960x1280',98774),\n",
    "    ('1200x1200',17473),\n",
    "    ('1600x1200',22769),\n",
    "]\n",
    "\n",
    "month_of_tasks_with_file = [[(random.choice(tasks_with_file)[0], tuple(sorted(random.sample(C, random.choice(range(len(C)))))), random.choice(range(5)), random.choice([True, False])) for __ in range(10)] for _ in range(30)]\n",
    "\n",
    "with open('month_of_tasks_with_file.txt', 'r') as fp:\n",
    "    fp.write(str(month_of_tasks_with_file))"
   ]
  },
  {
   "cell_type": "code",
   "execution_count": null,
   "metadata": {
    "collapsed": false,
    "jupyter": {
     "outputs_hidden": false
    },
    "pycharm": {
     "name": "#%%\n"
    }
   },
   "outputs": [],
   "source": [
    "filtered_by_speed_w_f = data_with_files[data_with_files.with_vpn == False][data_with_files.priority == 'speed'].reset_index(drop=True)\n",
    "month_of_tasks_speed_w_f = [[\n",
    "    filtered_by_speed_w_f[\n",
    "    (filtered_by_speed_w_f.file_name == execution[0]) &\n",
    "    (filtered_by_speed_w_f.available_connections == execution[1]) &\n",
    "    (filtered_by_speed_w_f.data_security == execution[2])\n",
    "    ]\n",
    "    for execution in day] for day in month_of_tasks_with_file]"
   ]
  },
  {
   "cell_type": "code",
   "execution_count": null,
   "metadata": {
    "collapsed": false,
    "jupyter": {
     "outputs_hidden": false
    },
    "pycharm": {
     "name": "#%%\n"
    }
   },
   "outputs": [],
   "source": [
    "filtered_by_speed_no_sec_w_f = data_with_files[data_with_files.with_vpn == False][data_with_files.priority == 'speed-not-secure'].reset_index(drop=True)\n",
    "month_of_tasks_speed_no_sec_w_f = [[\n",
    "    filtered_by_speed_no_sec_w_f[\n",
    "    (filtered_by_speed_no_sec_w_f.file_name == execution[0]) &\n",
    "    (filtered_by_speed_no_sec_w_f.available_connections == execution[1]) &\n",
    "    (filtered_by_speed_no_sec_w_f.data_security == 0)\n",
    "    ]\n",
    "    for execution in day] for day in month_of_tasks_with_file]"
   ]
  },
  {
   "cell_type": "code",
   "execution_count": null,
   "metadata": {
    "collapsed": false,
    "jupyter": {
     "outputs_hidden": false
    },
    "pycharm": {
     "name": "#%%\n"
    }
   },
   "outputs": [],
   "source": [
    "# wykres 3\n",
    "x = [t[0] for t in tasks_with_file]\n",
    "y_dict = {k:{'sec':[], 'non_sec':[]} for k in x}\n",
    "\n",
    "for day in month_of_tasks_speed_w_f:\n",
    "    for task in day:\n",
    "        y_dict[str(task.file_name.values[0])]['sec'].append(float(task.predicted_time))\n",
    "\n",
    "for day in month_of_tasks_speed_no_sec_w_f:\n",
    "    for task in day:\n",
    "        y_dict[str(task.file_name.values[0])]['non_sec'].append(float(task.predicted_time))\n",
    "\n",
    "y = [np.mean(y_dict[metric]['sec']) - np.mean(y_dict[metric]['non_sec']) for metric in x]\n",
    "stdev = [np.std(np.array(y_dict[metric]['sec']) - np.array(y_dict[metric]['non_sec'])) for metric in x]\n",
    "\n",
    "with open('./plots/numberThree.dat', 'w') as fp:\n",
    "    for one, two, three in zip(x, y, stdev):\n",
    "        fp.write(f'{one}, {two}, {three}\\n')\n",
    "\n",
    "plt.bar(x,y)"
   ]
  },
  {
   "cell_type": "code",
   "execution_count": null,
   "metadata": {
    "collapsed": false,
    "jupyter": {
     "outputs_hidden": false
    },
    "pycharm": {
     "name": "#%%\n"
    }
   },
   "outputs": [],
   "source": [
    "month_of_tasks_speed_w_f[0][0].file_name.values[0]"
   ]
  },
  {
   "cell_type": "code",
   "execution_count": 5,
   "metadata": {
    "collapsed": false,
    "jupyter": {
     "outputs_hidden": false
    },
    "pycharm": {
     "name": "#%%\n"
    }
   },
   "outputs": [
    {
     "name": "stderr",
     "output_type": "stream",
     "text": [
      "<ipython-input-5-95d7c40da955>:1: UserWarning: Boolean Series key will be reindexed to match DataFrame index.\n",
      "  filtered_by_speed = data[data.with_vpn == False][data.priority == 'speed'].reset_index(drop=True)\n"
     ]
    }
   ],
   "source": []
  },
  {
   "cell_type": "code",
   "execution_count": 247,
   "metadata": {
    "collapsed": false,
    "jupyter": {
     "outputs_hidden": false
    },
    "pycharm": {
     "name": "#%%\n"
    }
   },
   "outputs": [
    {
     "name": "stderr",
     "output_type": "stream",
     "text": [
      "<ipython-input-247-ea72001003b4>:1: UserWarning: Boolean Series key will be reindexed to match DataFrame index.\n",
      "  filtered_by_speed_no_sec = data[data.with_vpn == False][data.priority == 'speed-not-secure'].reset_index(drop=True)\n"
     ]
    }
   ],
   "source": [
    "filtered_by_speed_no_sec = data[data.with_vpn == False][data.priority == 'speed-not-secure'].reset_index(drop=True)\n",
    "month_of_tasks_speed_no_sec = [[\n",
    "    filtered_by_speed_no_sec[\n",
    "    (filtered_by_speed_no_sec.task_metric == execution[0]) &\n",
    "    (filtered_by_speed_no_sec.available_connections == execution[1]) &\n",
    "    (filtered_by_speed_no_sec.data_security == 0)\n",
    "    ]\n",
    "    for execution in day] for day in month_of_tasks]"
   ]
  },
  {
   "cell_type": "code",
   "execution_count": 248,
   "metadata": {
    "collapsed": false,
    "jupyter": {
     "outputs_hidden": false
    },
    "pycharm": {
     "name": "#%%\n"
    }
   },
   "outputs": [
    {
     "name": "stderr",
     "output_type": "stream",
     "text": [
      "<ipython-input-248-6145488ead05>:1: UserWarning: Boolean Series key will be reindexed to match DataFrame index.\n",
      "  totally_random = data[data.with_vpn == False][data.priority == 'true-random'].reset_index(drop=True)\n"
     ]
    }
   ],
   "source": [
    "totally_random = data[data.with_vpn == False][data.priority == 'true-random'].reset_index(drop=True)\n",
    "month_totally_random = [[\n",
    "    totally_random[\n",
    "    (totally_random.task_metric == execution[0]) &\n",
    "    (totally_random.available_connections == execution[1]) &\n",
    "    (totally_random.data_security == 0)\n",
    "    ]\n",
    "    for execution in day] for day in month_of_tasks]\n"
   ]
  },
  {
   "cell_type": "code",
   "execution_count": 263,
   "metadata": {
    "collapsed": false,
    "jupyter": {
     "outputs_hidden": false
    },
    "pycharm": {
     "name": "#%%\n"
    }
   },
   "outputs": [
    {
     "data": {
      "text/plain": [
       "<ErrorbarContainer object of 3 artists>"
      ]
     },
     "execution_count": 263,
     "metadata": {},
     "output_type": "execute_result"
    },
    {
     "data": {
      "image/png": "[encoded data removed]",
      "text/plain": [
       "<Figure size 432x288 with 1 Axes>"
      ]
     },
     "metadata": {
      "needs_background": "light"
     },
     "output_type": "display_data"
    }
   ],
   "source": [
    "# wykres 1\n",
    "x = ['speed and secure', 'speed without secure', 'completely random']\n",
    "y = [\n",
    "    sum([sum([float(task.predicted_time) for task in day])/len(day) for day in month_of_tasks_speed])/len(month_of_tasks_speed),\n",
    "    sum([sum([float(task.predicted_time) for task in day])/len(day) for day in month_of_tasks_speed_no_sec])/len(month_of_tasks_speed_no_sec),\n",
    "    sum([sum([float(task.predicted_time) for task in day])/len(day) for day in month_totally_random])/len(month_totally_random),\n",
    "]\n",
    "stdev = [\n",
    "    np.std([sum([float(task.predicted_time) for task in day])/len(day) for day in month_of_tasks_speed])/2,\n",
    "    np.std([sum([float(task.predicted_time) for task in day])/len(day) for day in month_of_tasks_speed_no_sec])/2,\n",
    "    np.std([sum([float(task.predicted_time) for task in day])/len(day) for day in month_totally_random])/2,\n",
    "]\n",
    "with open('./plots/numberOne.dat', 'w') as fp:\n",
    "    for one, two, three in zip(x, y, stdev):\n",
    "        fp.write(f'{one.capitalize()}, {two}, {three}\\n')\n",
    "plt.errorbar(x,y,stdev)"
   ]
  },
  {
   "cell_type": "code",
   "execution_count": 28,
   "metadata": {
    "collapsed": false,
    "jupyter": {
     "outputs_hidden": false
    },
    "pycharm": {
     "name": "#%%\n"
    }
   },
   "outputs": [
    {
     "name": "stdout",
     "output_type": "stream",
     "text": [
      "[[0, 5, 47, 15], [0, 6, 28, 23], [0, 11, 22, 28], [0, 0, 19, 37], [0, 0, 0, 59]]\n"
     ]
    },
    {
     "data": {
      "image/png": "[encoded data removed]",
      "text/plain": [
       "<Figure size 432x288 with 1 Axes>"
      ]
     },
     "metadata": {
      "needs_background": "light"
     },
     "output_type": "display_data"
    }
   ],
   "source": [
    "# wykres wybranych serwisów w zależności od bezpieczeństwa\n",
    "U = [\n",
    "    'cloud_commercial',\n",
    "    'cloud_own',\n",
    "    'pc',\n",
    "    'mobile'\n",
    "]\n",
    "x = [0,1,2,3,4]\n",
    "y = []\n",
    "for sec in x:\n",
    "    d = {u:0 for u in U}\n",
    "    for day in month_of_tasks_speed:\n",
    "        for task in day:\n",
    "            if (int(task.data_security) == sec):\n",
    "                d[np.array(task.chosen_service)[0]] += 1\n",
    "        # print(d)\n",
    "    y.append([d[u] for u in U])\n",
    "print(y)\n",
    "y = list(zip(*y))\n",
    "for yy in y:\n",
    "    plt.bar(x,yy)"
   ]
  },
  {
   "cell_type": "code",
   "execution_count": 259,
   "metadata": {
    "collapsed": false,
    "jupyter": {
     "outputs_hidden": false
    },
    "pycharm": {
     "name": "#%%\n"
    }
   },
   "outputs": [
    {
     "data": {
      "text/plain": [
       "<BarContainer object of 3 artists>"
      ]
     },
     "execution_count": 259,
     "metadata": {},
     "output_type": "execute_result"
    },
    {
     "data": {
      "image/png": "[encoded data removed]",
      "text/plain": [
       "<Figure size 432x288 with 1 Axes>"
      ]
     },
     "metadata": {
      "needs_background": "light"
     },
     "output_type": "display_data"
    }
   ],
   "source": [
    "# wykres 2\n",
    "y = [\n",
    "    sum([sum([float(task.achieved_security) for task in day])/len(day) for day in month_of_tasks_speed])/len(month_of_tasks_speed),\n",
    "    sum([sum([float(task.achieved_security) for task in day])/len(day) for day in month_of_tasks_speed_no_sec])/len(month_of_tasks_speed_no_sec),\n",
    "    sum([sum([float(task.achieved_security) for task in day])/len(day) for day in month_totally_random])/len(month_totally_random),\n",
    "]\n",
    "\n",
    "stdev = [\n",
    "    statistics.stdev([sum([float(task.achieved_security) for task in day])/len(day) for day in month_of_tasks_speed])/2,\n",
    "    statistics.stdev([sum([float(task.achieved_security) for task in day])/len(day) for day in month_of_tasks_speed_no_sec])/2,\n",
    "    statistics.stdev([sum([float(task.achieved_security) for task in day])/len(day) for day in month_totally_random])/2,\n",
    "]\n",
    "\n",
    "with open('./plots/numberTwo.dat', 'w') as fp:\n",
    "    for one, two, three in zip(x, y, stdev):\n",
    "        fp.write(f'{one.capitalize()}, {two}, {three}\\n')\n",
    "\n",
    "plt.bar(x,y)"
   ]
  },
  {
   "cell_type": "code",
   "execution_count": 264,
   "metadata": {
    "collapsed": false,
    "jupyter": {
     "outputs_hidden": false
    },
    "pycharm": {
     "name": "#%%\n"
    }
   },
   "outputs": [
    {
     "data": {
      "text/plain": [
       "<BarContainer object of 20 artists>"
      ]
     },
     "execution_count": 264,
     "metadata": {},
     "output_type": "execute_result"
    },
    {
     "data": {
      "image/png": "[encoded data removed]",
      "text/plain": [
       "<Figure size 432x288 with 1 Axes>"
      ]
     },
     "metadata": {
      "needs_background": "light"
     },
     "output_type": "display_data"
    }
   ],
   "source": [
    "# wykres 4\n",
    "x = list(range(5000, 100001, 5000))\n",
    "y_dict = {k:{'sec':[], 'non_sec':[]} for k in x}\n",
    "\n",
    "for day in month_of_tasks_speed:\n",
    "    for task in day:\n",
    "        y_dict[int(task.task_metric)]['sec'].append(float(task.predicted_time))\n",
    "\n",
    "for day in month_of_tasks_speed_no_sec:\n",
    "    for task in day:\n",
    "        y_dict[int(task.task_metric)]['non_sec'].append(float(task.predicted_time))\n",
    "\n",
    "y = [np.mean(y_dict[metric]['sec']) - np.mean(y_dict[metric]['non_sec']) for metric in x]\n",
    "stdev = [np.std(np.array(y_dict[metric]['sec']) - np.array(y_dict[metric]['non_sec'])) for metric in x]\n",
    "\n",
    "with open('./plots/numberFour.dat', 'w') as fp:\n",
    "    for one, two, three in zip(x, y, stdev):\n",
    "        fp.write(f'{one}, {two}, {three}\\n')\n",
    "\n",
    "plt.bar(list(map(str,x)),y)"
   ]
  },
  {
   "cell_type": "code",
   "execution_count": 205,
   "metadata": {
    "collapsed": false,
    "jupyter": {
     "outputs_hidden": false
    },
    "pycharm": {
     "name": "#%%\n"
    }
   },
   "outputs": [
    {
     "data": {
      "text/plain": [
       "[0.735311788156273,\n",
       " 4.113531372761836,\n",
       " 3.468816482839701,\n",
       " 10.548229694624384,\n",
       " 4.216791176226678,\n",
       " 11.501732094813928,\n",
       " 9.974952473445587,\n",
       " 10.42243213579862,\n",
       " 15.634637453837664,\n",
       " 7.544591093984209,\n",
       " 15.397293821692202,\n",
       " 12.31717944654503,\n",
       " 12.756493345699557,\n",
       " 20.094725384339963,\n",
       " 29.969361914801652,\n",
       " 16.578296905700117,\n",
       " 20.65415687868738,\n",
       " 16.647751991873697,\n",
       " 39.269193087974735,\n",
       " 19.611392371840367]"
      ]
     },
     "execution_count": 205,
     "metadata": {},
     "output_type": "execute_result"
    }
   ],
   "source": [
    "y\n",
    "\n"
   ]
  },
  {
   "cell_type": "code",
   "execution_count": 265,
   "metadata": {
    "collapsed": false,
    "jupyter": {
     "outputs_hidden": false
    },
    "pycharm": {
     "name": "#%%\n"
    }
   },
   "outputs": [],
   "source": [
    "\n",
    "data_with_files = pd.read_csv('tests_with_files.csv', sep=';')\n",
    "data_with_files.available_connections = data_with_files.available_connections.apply(ast.literal_eval)\n",
    "data_with_files.available_connections = data_with_files.available_connections.apply(sorted)\n",
    "data_with_files.available_connections = data_with_files.available_connections.apply(tuple)"
   ]
  },
  {
   "cell_type": "code",
   "execution_count": 240,
   "metadata": {
    "collapsed": false,
    "jupyter": {
     "outputs_hidden": false
    },
    "pycharm": {
     "name": "#%%\n"
    }
   },
   "outputs": [],
   "source": [
    "C = [\n",
    "    'wifi_public_no_passwd',\n",
    "    'wifi_public_passwd',\n",
    "    'cellular',\n",
    "    'wifi_priv_known',\n",
    "]\n",
    "tasks_with_file = [\n",
    "    ('540x40',3183),\n",
    "    ('580x680',8463),\n",
    "    ('600x120',8493),\n",
    "    ('720x960',83883),\n",
    "    ('960x480',33574),\n",
    "    ('960x1280',98774),\n",
    "    ('1200x1200',17473),\n",
    "    ('1600x1200',22769),\n",
    "]\n",
    "\n",
    "month_of_tasks_with_file = [[(random.choice(tasks_with_file)[0], tuple(sorted(random.sample(C, random.choice(range(len(C)))))), random.choice(range(5)), random.choice([True, False])) for __ in range(10)] for _ in range(30)]\n",
    "\n",
    "with open('month_of_tasks_with_file.txt', 'r') as fp:\n",
    "    fp.write(str(month_of_tasks_with_file))"
   ]
  },
  {
   "cell_type": "code",
   "execution_count": 266,
   "metadata": {
    "collapsed": false,
    "jupyter": {
     "outputs_hidden": false
    },
    "pycharm": {
     "name": "#%%\n"
    }
   },
   "outputs": [
    {
     "name": "stderr",
     "output_type": "stream",
     "text": [
      "<ipython-input-266-e3c702519a6a>:1: UserWarning: Boolean Series key will be reindexed to match DataFrame index.\n",
      "  filtered_by_speed_w_f = data_with_files[data_with_files.with_vpn == False][data_with_files.priority == 'speed'].reset_index(drop=True)\n"
     ]
    }
   ],
   "source": [
    "filtered_by_speed_w_f = data_with_files[data_with_files.with_vpn == False][data_with_files.priority == 'speed'].reset_index(drop=True)\n",
    "month_of_tasks_speed_w_f = [[\n",
    "    filtered_by_speed_w_f[\n",
    "    (filtered_by_speed_w_f.file_name == execution[0]) &\n",
    "    (filtered_by_speed_w_f.available_connections == execution[1]) &\n",
    "    (filtered_by_speed_w_f.data_security == execution[2])\n",
    "    ]\n",
    "    for execution in day] for day in month_of_tasks_with_file]"
   ]
  },
  {
   "cell_type": "code",
   "execution_count": 268,
   "metadata": {
    "collapsed": false,
    "jupyter": {
     "outputs_hidden": false
    },
    "pycharm": {
     "name": "#%%\n"
    }
   },
   "outputs": [
    {
     "name": "stderr",
     "output_type": "stream",
     "text": [
      "<ipython-input-268-749afaa1efe9>:1: UserWarning: Boolean Series key will be reindexed to match DataFrame index.\n",
      "  filtered_by_speed_no_sec_w_f = data_with_files[data_with_files.with_vpn == False][data_with_files.priority == 'speed-not-secure'].reset_index(drop=True)\n"
     ]
    }
   ],
   "source": [
    "filtered_by_speed_no_sec_w_f = data_with_files[data_with_files.with_vpn == False][data_with_files.priority == 'speed-not-secure'].reset_index(drop=True)\n",
    "month_of_tasks_speed_no_sec_w_f = [[\n",
    "    filtered_by_speed_no_sec_w_f[\n",
    "    (filtered_by_speed_no_sec_w_f.file_name == execution[0]) &\n",
    "    (filtered_by_speed_no_sec_w_f.available_connections == execution[1]) &\n",
    "    (filtered_by_speed_no_sec_w_f.data_security == 0)\n",
    "    ]\n",
    "    for execution in day] for day in month_of_tasks_with_file]"
   ]
  },
  {
   "cell_type": "code",
   "execution_count": 269,
   "metadata": {
    "collapsed": false,
    "jupyter": {
     "outputs_hidden": false
    },
    "pycharm": {
     "name": "#%%\n"
    }
   },
   "outputs": [
    {
     "data": {
      "text/plain": [
       "<BarContainer object of 8 artists>"
      ]
     },
     "execution_count": 269,
     "metadata": {},
     "output_type": "execute_result"
    },
    {
     "data": {
      "image/png": "[encoded data removed]",
      "text/plain": [
       "<Figure size 432x288 with 1 Axes>"
      ]
     },
     "metadata": {
      "needs_background": "light"
     },
     "output_type": "display_data"
    }
   ],
   "source": [
    "# wykres 3\n",
    "x = [t[0] for t in tasks_with_file]\n",
    "y_dict = {k:{'sec':[], 'non_sec':[]} for k in x}\n",
    "\n",
    "for day in month_of_tasks_speed_w_f:\n",
    "    for task in day:\n",
    "        y_dict[str(task.file_name.values[0])]['sec'].append(float(task.predicted_time))\n",
    "\n",
    "for day in month_of_tasks_speed_no_sec_w_f:\n",
    "    for task in day:\n",
    "        y_dict[str(task.file_name.values[0])]['non_sec'].append(float(task.predicted_time))\n",
    "\n",
    "y = [np.mean(y_dict[metric]['sec']) - np.mean(y_dict[metric]['non_sec']) for metric in x]\n",
    "stdev = [np.std(np.array(y_dict[metric]['sec']) - np.array(y_dict[metric]['non_sec'])) for metric in x]\n",
    "\n",
    "with open('./plots/numberThree.dat', 'w') as fp:\n",
    "    for one, two, three in zip(x, y, stdev):\n",
    "        fp.write(f'{one}, {two}, {three}\\n')\n",
    "\n",
    "plt.bar(x,y)"
   ]
  },
  {
   "cell_type": "code",
   "execution_count": 237,
   "metadata": {
    "collapsed": false,
    "jupyter": {
     "outputs_hidden": false
    },
    "pycharm": {
     "name": "#%%\n"
    }
   },
   "outputs": [
    {
     "data": {
      "text/plain": [
       "'580x680'"
      ]
     },
     "execution_count": 237,
     "metadata": {},
     "output_type": "execute_result"
    }
   ],
   "source": [
    "month_of_tasks_speed_w_f[0][0].file_name.values[0]"
   ]
  },
  {
   "cell_type": "code",
   "execution_count": null,
   "metadata": {
    "collapsed": false,
    "jupyter": {
     "outputs_hidden": false
    },
    "pycharm": {
     "name": "#%%\n"
    }
   },
   "outputs": [],
   "source": []
  }
 ],
 "metadata": {
  "kernelspec": {
   "display_name": "Python 3",
   "language": "python",
   "name": "python3"
  },
  "language_info": {
   "codemirror_mode": {
    "name": "ipython",
    "version": 3
   },
   "file_extension": ".py",
   "mimetype": "text/x-python",
   "name": "python",
   "nbconvert_exporter": "python",
   "pygments_lexer": "ipython3",
   "version": "3.8.9"
  }
 },
 "nbformat": 4,
 "nbformat_minor": 4
}
