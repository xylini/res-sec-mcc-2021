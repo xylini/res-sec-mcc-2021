{
 "cells": [
  {
   "cell_type": "code",
   "execution_count": 2,
   "id": "hidden-engineering",
   "metadata": {},
   "outputs": [],
   "source": [
    "import pandas as pd\n",
    "import numpy as np\n",
    "import random\n",
    "import matplotlib.pyplot as plt\n",
    "import joblib\n",
    "from collections import defaultdict as ddict\n",
    "import itertools\n",
    "\n",
    "%matplotlib inline\n",
    "%config InlineBackend.figure_format = 'retina'\n",
    "plt.rcParams[\"figure.figsize\"] = [12, 6]"
   ]
  },
  {
   "cell_type": "code",
   "execution_count": 3,
   "id": "usual-school",
   "metadata": {},
   "outputs": [],
   "source": [
    "where_combined = [\n",
    "    'none_mobile',\n",
    "    'wifi_pc',\n",
    "    'wifi_cloud',\n",
    "    'cellular_cloud'\n",
    "]\n",
    "\n",
    "what_all = [\n",
    "    'battery',\n",
    "    'time_mean'\n",
    "]\n",
    "\n",
    "# possible services\n",
    "U = [\n",
    "    'cloud_commercial',\n",
    "    'cloud_own',\n",
    "    'pc',\n",
    "    'mobile'\n",
    "]\n",
    "\n",
    "# possible mobile connections\n",
    "C = [\n",
    "    'wifi_public_no_passwd',\n",
    "    'wifi_public_passwd',\n",
    "    'cellular',\n",
    "    'wifi_priv_known',\n",
    "]\n",
    "\n",
    "C_to_lvl = {v:i for i,v in enumerate(C)}\n",
    "\n",
    "MAX_SEC_LEVEL = 4\n",
    "\n",
    "models = ddict(dict)\n",
    "models_dict = 'models/'\n",
    "\n",
    "# reading pretrained models\n",
    "for what in what_all:\n",
    "    for where in where_combined:\n",
    "        models[what][where] = joblib.load(f'{models_dict}{what}-{where}.joblib')\n",
    "\n",
    "example_metrics = pd.read_csv('learning_data_new_dataset_no_outlier_no_zero_battery.csv', sep=';')[['metric', 'file_size']].drop_duplicates()"
   ]
  },
  {
   "cell_type": "code",
   "execution_count": 4,
   "id": "romance-conservative",
   "metadata": {},
   "outputs": [],
   "source": [
    "def security_filter(C, U, v, dj):\n",
    "    Uj = None\n",
    "    Cj = None\n",
    "    \n",
    "    if dj == 0:\n",
    "        Uj = U\n",
    "        Cj = C\n",
    "        return Cj, Uj\n",
    "    else:\n",
    "        if dj > len(C) + v:\n",
    "            Uj = U[dj:]\n",
    "            Cj = []\n",
    "        else:\n",
    "            m = dj - v\n",
    "            Uj = U[dj - 1:]\n",
    "            Cj = C[m:]\n",
    "    \n",
    "    return Cj, Uj\n",
    "\n",
    "def get_random_tasks(per_day, within_days):\n",
    "    tasks = pd.concat([example_metrics.sample(per_day) for day in range(within_days)], ignore_index=True)\n",
    "    for col in tasks.columns:\n",
    "        tasks[col] = tasks[col].apply(lambda x: x + random.randint(-x//10, x//10))\n",
    "        \n",
    "    return tasks\n",
    "\n",
    "def achieved_security_lvl(service, connection, vpn):\n",
    "    if connection == None:\n",
    "        return U.index(service)+1 # to be checked - not sure about the value 1\n",
    "    else:\n",
    "        return min(C_to_lvl[connection] + vpn, U.index(service))\n",
    "\n",
    "def with_metadata(tasks):\n",
    "    additional_metadata = [\n",
    "        (\n",
    "            tuple(sorted(random.sample(C, random.choice(range(len(C)))))), # available connections, sorted for order consistency\n",
    "            random.choice([0, 1]),                                         # with vpn\n",
    "            random.randint(0, 4)                                           # data confidentiality level\n",
    "        ) for task in range(tasks.shape[0])\n",
    "    ]\n",
    "    tasks = pd.concat([tasks, pd.DataFrame(additional_metadata, columns=['available_connections', 'vpn', 'data_confid'])], axis=1)\n",
    "    \n",
    "    # tasks which may be used with given data confidentiality level\n",
    "    tasks['filtered_connections'] = [sorted(list(set(meta[0]) & set(tuple(sorted(security_filter(C, U, meta[1], meta[2])[0])))), key=lambda x: C_to_lvl[x]) for meta in additional_metadata]\n",
    "    tasks['allowed_services'] = [security_filter(C, U, meta[1], meta[2])[1] for meta in additional_metadata]\n",
    "    \n",
    "    return tasks\n",
    "\n",
    "def predictions_for_task(task, with_security_filter=True):\n",
    "    combinations = list(filter(\n",
    "        lambda x: x[2] in where_combined, \n",
    "        [[\n",
    "            cj, \n",
    "            uj, \n",
    "            cj.split('_')[0] + '_' + uj.split('_')[0],\n",
    "            achieved_security_lvl(uj, cj, task.vpn)\n",
    "        ] for cj, uj in itertools.product(task.filtered_connections if with_security_filter else task.available_connections, task.allowed_services)]\n",
    "    ))\n",
    "    combinations = list(filter(lambda x: not (x[0] != 'wifi_priv_known' and x[2] == 'wifi_pc'), combinations))\n",
    "    combinations.append((None, 'mobile', 'none_mobile', achieved_security_lvl('mobile', None, task.vpn)))\n",
    "    \n",
    "    combinations = [[\n",
    "        *row, \n",
    "        models['battery'][row[2]].predict([[task.metric, task.file_size]])[0], \n",
    "        models['time_mean'][row[2]].predict([[task.metric, task.file_size]])[0]\n",
    "    ] for row in combinations]\n",
    "        \n",
    "    return combinations # (cj, uj, where_combined, achieved_sec, battery_usage, exec_time)\n",
    "    \n",
    "def predicts_wifi_priv_pc(possible_executions_no_sec):\n",
    "    return sorted(list(filter(lambda x: x[2] == 'wifi_pc' or x[2] == 'none_mobile', possible_executions_no_sec)), key=lambda x: x[3])\n",
    "\n",
    "def predict_public_cloud(possible_executions_no_sec):\n",
    "    result = list(filter(lambda x: x[1] == 'cloud_commercial' or x[2] == 'none_mobile', possible_executions_no_sec))\n",
    "    if len(result) == 1:\n",
    "        return result[0]\n",
    "    else:\n",
    "        return random.choice(result[:-1])\n",
    "    \n",
    "def with_predictions(tasks, splits):\n",
    "    random_sec = [] \n",
    "    best_battery = []\n",
    "    best_time = []\n",
    "    most_sec = []\n",
    "    \n",
    "    random_no_sec = []\n",
    "    wifi_priv_pc_no_sec = []\n",
    "    comm_cloud_no_sec = []\n",
    "    \n",
    "    for task in tasks.itertuples():\n",
    "        possible_executions = predictions_for_task(task)\n",
    "        possible_executions_no_sec = predictions_for_task(task, False)\n",
    "        \n",
    "        random_sec.append(random.choice(possible_executions))\n",
    "        best_battery.append(sorted(possible_executions, key=lambda x: x[4])[0])\n",
    "        best_time.append(sorted(possible_executions, key=lambda x: x[5])[0])\n",
    "        most_sec.append(sorted(possible_executions, key=lambda x: -x[3])[0])\n",
    "\n",
    "        random_no_sec.append(random.choice(possible_executions_no_sec))\n",
    "        wifi_priv_pc_no_sec.append(predicts_wifi_priv_pc(possible_executions_no_sec)[0])\n",
    "        comm_cloud_no_sec.append(predict_public_cloud(possible_executions_no_sec))\n",
    "        \n",
    "    def place_mean_and_std(place):\n",
    "        lvl, battery, time = [np.array(np.split(resource, splits)).sum(axis=1) / (len(tasks) // splits) for resource in np.array(list(zip(*np.array(place)[:,3:].astype(float))))]\n",
    "        \n",
    "        return [(\n",
    "                resource.mean(),\n",
    "                resource.std()\n",
    "            ) for resource in [lvl, battery, time]]\n",
    "            \n",
    "    return [\n",
    "        ['Random Security', place_mean_and_std(random_sec)],\n",
    "        ['Best Battery', place_mean_and_std(best_battery)],\n",
    "        ['Best Time', place_mean_and_std(best_time)],\n",
    "        ['Best Security', place_mean_and_std(most_sec)],\n",
    "        ['Random No Sec', place_mean_and_std(random_no_sec)],\n",
    "        ['Wifi Priv Pc No Sec', place_mean_and_std(wifi_priv_pc_no_sec)],\n",
    "        ['Commercial Cloud No Sec', place_mean_and_std(comm_cloud_no_sec)]\n",
    "    ]"
   ]
  },
  {
   "cell_type": "code",
   "execution_count": 13,
   "id": "encouraging-division",
   "metadata": {},
   "outputs": [
    {
     "data": {
      "text/html": [
       "<div>\n",
       "<style scoped>\n",
       "    .dataframe tbody tr th:only-of-type {\n",
       "        vertical-align: middle;\n",
       "    }\n",
       "\n",
       "    .dataframe tbody tr th {\n",
       "        vertical-align: top;\n",
       "    }\n",
       "\n",
       "    .dataframe thead th {\n",
       "        text-align: right;\n",
       "    }\n",
       "</style>\n",
       "<table border=\"1\" class=\"dataframe\">\n",
       "  <thead>\n",
       "    <tr style=\"text-align: right;\">\n",
       "      <th></th>\n",
       "      <th>metric</th>\n",
       "      <th>file_size</th>\n",
       "      <th>available_connections</th>\n",
       "      <th>vpn</th>\n",
       "      <th>data_confid</th>\n",
       "      <th>filtered_connections</th>\n",
       "      <th>allowed_services</th>\n",
       "    </tr>\n",
       "  </thead>\n",
       "  <tbody>\n",
       "    <tr>\n",
       "      <th>0</th>\n",
       "      <td>169641</td>\n",
       "      <td>1091727</td>\n",
       "      <td>(wifi_public_no_passwd, wifi_public_passwd)</td>\n",
       "      <td>1</td>\n",
       "      <td>4</td>\n",
       "      <td>[]</td>\n",
       "      <td>[mobile]</td>\n",
       "    </tr>\n",
       "    <tr>\n",
       "      <th>1</th>\n",
       "      <td>250937</td>\n",
       "      <td>1775784</td>\n",
       "      <td>(cellular, wifi_public_no_passwd, wifi_public_...</td>\n",
       "      <td>0</td>\n",
       "      <td>2</td>\n",
       "      <td>[cellular]</td>\n",
       "      <td>[cloud_own, pc, mobile]</td>\n",
       "    </tr>\n",
       "    <tr>\n",
       "      <th>2</th>\n",
       "      <td>27431</td>\n",
       "      <td>169565</td>\n",
       "      <td>(wifi_priv_known, wifi_public_passwd)</td>\n",
       "      <td>0</td>\n",
       "      <td>3</td>\n",
       "      <td>[wifi_priv_known]</td>\n",
       "      <td>[pc, mobile]</td>\n",
       "    </tr>\n",
       "    <tr>\n",
       "      <th>3</th>\n",
       "      <td>275939</td>\n",
       "      <td>1143813</td>\n",
       "      <td>(wifi_priv_known, wifi_public_no_passwd, wifi_...</td>\n",
       "      <td>0</td>\n",
       "      <td>0</td>\n",
       "      <td>[wifi_public_no_passwd, wifi_public_passwd, wi...</td>\n",
       "      <td>[cloud_commercial, cloud_own, pc, mobile]</td>\n",
       "    </tr>\n",
       "    <tr>\n",
       "      <th>4</th>\n",
       "      <td>91938</td>\n",
       "      <td>633801</td>\n",
       "      <td>(wifi_public_no_passwd,)</td>\n",
       "      <td>1</td>\n",
       "      <td>2</td>\n",
       "      <td>[]</td>\n",
       "      <td>[cloud_own, pc, mobile]</td>\n",
       "    </tr>\n",
       "    <tr>\n",
       "      <th>...</th>\n",
       "      <td>...</td>\n",
       "      <td>...</td>\n",
       "      <td>...</td>\n",
       "      <td>...</td>\n",
       "      <td>...</td>\n",
       "      <td>...</td>\n",
       "      <td>...</td>\n",
       "    </tr>\n",
       "    <tr>\n",
       "      <th>4995</th>\n",
       "      <td>374773</td>\n",
       "      <td>1843245</td>\n",
       "      <td>(wifi_priv_known, wifi_public_passwd)</td>\n",
       "      <td>0</td>\n",
       "      <td>0</td>\n",
       "      <td>[wifi_public_passwd, wifi_priv_known]</td>\n",
       "      <td>[cloud_commercial, cloud_own, pc, mobile]</td>\n",
       "    </tr>\n",
       "    <tr>\n",
       "      <th>4996</th>\n",
       "      <td>172919</td>\n",
       "      <td>895153</td>\n",
       "      <td>(cellular, wifi_priv_known, wifi_public_no_pas...</td>\n",
       "      <td>0</td>\n",
       "      <td>4</td>\n",
       "      <td>[]</td>\n",
       "      <td>[mobile]</td>\n",
       "    </tr>\n",
       "    <tr>\n",
       "      <th>4997</th>\n",
       "      <td>294349</td>\n",
       "      <td>1848828</td>\n",
       "      <td>(cellular, wifi_priv_known)</td>\n",
       "      <td>1</td>\n",
       "      <td>0</td>\n",
       "      <td>[cellular, wifi_priv_known]</td>\n",
       "      <td>[cloud_commercial, cloud_own, pc, mobile]</td>\n",
       "    </tr>\n",
       "    <tr>\n",
       "      <th>4998</th>\n",
       "      <td>459455</td>\n",
       "      <td>2108687</td>\n",
       "      <td>()</td>\n",
       "      <td>1</td>\n",
       "      <td>0</td>\n",
       "      <td>[]</td>\n",
       "      <td>[cloud_commercial, cloud_own, pc, mobile]</td>\n",
       "    </tr>\n",
       "    <tr>\n",
       "      <th>4999</th>\n",
       "      <td>462424</td>\n",
       "      <td>1960051</td>\n",
       "      <td>(cellular, wifi_priv_known, wifi_public_passwd)</td>\n",
       "      <td>0</td>\n",
       "      <td>3</td>\n",
       "      <td>[wifi_priv_known]</td>\n",
       "      <td>[pc, mobile]</td>\n",
       "    </tr>\n",
       "  </tbody>\n",
       "</table>\n",
       "<p>5000 rows × 7 columns</p>\n",
       "</div>"
      ],
      "text/plain": [
       "      metric  file_size                              available_connections  \\\n",
       "0     169641    1091727        (wifi_public_no_passwd, wifi_public_passwd)   \n",
       "1     250937    1775784  (cellular, wifi_public_no_passwd, wifi_public_...   \n",
       "2      27431     169565              (wifi_priv_known, wifi_public_passwd)   \n",
       "3     275939    1143813  (wifi_priv_known, wifi_public_no_passwd, wifi_...   \n",
       "4      91938     633801                           (wifi_public_no_passwd,)   \n",
       "...      ...        ...                                                ...   \n",
       "4995  374773    1843245              (wifi_priv_known, wifi_public_passwd)   \n",
       "4996  172919     895153  (cellular, wifi_priv_known, wifi_public_no_pas...   \n",
       "4997  294349    1848828                        (cellular, wifi_priv_known)   \n",
       "4998  459455    2108687                                                 ()   \n",
       "4999  462424    1960051    (cellular, wifi_priv_known, wifi_public_passwd)   \n",
       "\n",
       "      vpn  data_confid                               filtered_connections  \\\n",
       "0       1            4                                                 []   \n",
       "1       0            2                                         [cellular]   \n",
       "2       0            3                                  [wifi_priv_known]   \n",
       "3       0            0  [wifi_public_no_passwd, wifi_public_passwd, wi...   \n",
       "4       1            2                                                 []   \n",
       "...   ...          ...                                                ...   \n",
       "4995    0            0              [wifi_public_passwd, wifi_priv_known]   \n",
       "4996    0            4                                                 []   \n",
       "4997    1            0                        [cellular, wifi_priv_known]   \n",
       "4998    1            0                                                 []   \n",
       "4999    0            3                                  [wifi_priv_known]   \n",
       "\n",
       "                               allowed_services  \n",
       "0                                      [mobile]  \n",
       "1                       [cloud_own, pc, mobile]  \n",
       "2                                  [pc, mobile]  \n",
       "3     [cloud_commercial, cloud_own, pc, mobile]  \n",
       "4                       [cloud_own, pc, mobile]  \n",
       "...                                         ...  \n",
       "4995  [cloud_commercial, cloud_own, pc, mobile]  \n",
       "4996                                   [mobile]  \n",
       "4997  [cloud_commercial, cloud_own, pc, mobile]  \n",
       "4998  [cloud_commercial, cloud_own, pc, mobile]  \n",
       "4999                               [pc, mobile]  \n",
       "\n",
       "[5000 rows x 7 columns]"
      ]
     },
     "execution_count": 13,
     "metadata": {},
     "output_type": "execute_result"
    }
   ],
   "source": [
    "tasks_per_day = 50\n",
    "tasks_within_days = 100\n",
    "\n",
    "tasks = get_random_tasks(per_day=tasks_per_day, within_days=tasks_within_days)\n",
    "tasks = with_metadata(tasks)\n",
    "tasks"
   ]
  },
  {
   "cell_type": "code",
   "execution_count": 14,
   "id": "buried-undergraduate",
   "metadata": {},
   "outputs": [
    {
     "name": "stdout",
     "output_type": "stream",
     "text": [
      "vpn available 2490 0.498\n",
      "no connection available 1211 0.2422\n",
      "no connection available filtered 2167 0.4334\n",
      "tasks with most secure connection 1903 0.3806\n",
      "no connection even whem connections are available 956 0.1912\n"
     ]
    }
   ],
   "source": [
    "print('vpn available', a := len(tasks.vpn[tasks.vpn == 1]), a / 5000)\n",
    "print('no connection available', b := len(tasks.available_connections[tasks.available_connections == ()]), b / 5000)\n",
    "print('no connection available filtered', c := len(tasks.filtered_connections[tasks.filtered_connections.map(lambda x: True if len(x) == 0 else False)]), c / 5000)\n",
    "print('tasks with most secure connection', d := len(tasks.available_connections[tasks.available_connections.map(lambda x: 'wifi_priv_known' in x)]), d / 5000)\n",
    "print('no connection even whem connections are available', e := len(tasks[tasks.filtered_connections.map(lambda x: True if len(x) == 0 else False) & tasks.available_connections.map(lambda x: True if len(x) > 0 else False)]), e / 5000)"
   ]
  },
  {
   "cell_type": "code",
   "execution_count": 33,
   "id": "brief-dance",
   "metadata": {},
   "outputs": [
    {
     "data": {
      "text/plain": [
       "0       False\n",
       "1        True\n",
       "2       False\n",
       "3       False\n",
       "4        True\n",
       "        ...  \n",
       "4995     True\n",
       "4996     True\n",
       "4997     True\n",
       "4998    False\n",
       "4999     True\n",
       "Name: available_connections, Length: 5000, dtype: bool"
      ]
     },
     "execution_count": 33,
     "metadata": {},
     "output_type": "execute_result"
    }
   ],
   "source": [
    "tasks.available_connections.map(lambda x: True if len(x) > 0 else False)"
   ]
  },
  {
   "cell_type": "code",
   "execution_count": 39,
   "id": "quick-recognition",
   "metadata": {},
   "outputs": [
    {
     "data": {
      "text/plain": [
       "0        True\n",
       "1       False\n",
       "2        True\n",
       "3        True\n",
       "4       False\n",
       "        ...  \n",
       "4995    False\n",
       "4996    False\n",
       "4997    False\n",
       "4998     True\n",
       "4999     True\n",
       "Name: filtered_connections, Length: 5000, dtype: bool"
      ]
     },
     "execution_count": 39,
     "metadata": {},
     "output_type": "execute_result"
    }
   ],
   "source": [
    "tasks.filtered_connections.map(lambda x: True if len(x) == 0 else False)"
   ]
  },
  {
   "cell_type": "code",
   "execution_count": 40,
   "id": "interesting-vertex",
   "metadata": {},
   "outputs": [
    {
     "data": {
      "text/plain": [
       "1015"
      ]
     },
     "execution_count": 40,
     "metadata": {},
     "output_type": "execute_result"
    }
   ],
   "source": [
    "len(tasks[tasks.filtered_connections.map(lambda x: True if len(x) == 0 else False) & tasks.available_connections.map(lambda x: True if len(x) > 0 else False)])"
   ]
  },
  {
   "cell_type": "code",
   "execution_count": 6,
   "id": "outside-converter",
   "metadata": {},
   "outputs": [],
   "source": [
    "strategies = with_predictions(tasks, tasks_within_days)"
   ]
  },
  {
   "cell_type": "code",
   "execution_count": 7,
   "id": "provincial-committee",
   "metadata": {},
   "outputs": [
    {
     "name": "stdout",
     "output_type": "stream",
     "text": [
      "['Random Security', [(2.946, 0.2299130270341374), (0.17558939940893173, 0.020452204656286572), (34.315711260747435, 4.067189492730708)]]\n",
      "['Best Battery', [(2.8634, 0.22506985582258682), (0.1373061471820679, 0.021991482810709107), (26.660155286368752, 3.2288780543787956)]]\n",
      "['Best Time', [(3.2666000000000004, 0.1792663939504557), (0.14671289277612304, 0.021149348278198615), (23.246366680787563, 2.967881099383131)]]\n",
      "['Best Security', [(4.0, 0.0), (0.2316509955103918, 0.02306947985708234), (32.445470380781444, 3.4436668370656394)]]\n",
      "['Random No Sec', [(2.8464, 0.23609963998278352), (0.17072478789492307, 0.020750025510562643), (35.097801639968615, 4.202022387428955)]]\n",
      "['Wifi Priv Pc No Sec', [(3.4015999999999997, 0.1339755201520039), (0.1680755778374422, 0.025311174118276363), (26.250952893740795, 3.4737836920742295)]]\n",
      "['Commercial Cloud No Sec', [(2.8072000000000004, 0.2706070213427582), (0.18900508144634795, 0.022034443789106472), (37.14141418182028, 4.226333138575807)]]\n"
     ]
    }
   ],
   "source": [
    "print(*strategies, sep='\\n')"
   ]
  },
  {
   "cell_type": "code",
   "execution_count": 8,
   "id": "least-cabin",
   "metadata": {},
   "outputs": [
    {
     "data": {
      "image/png": "[encoded data removed]",
      "text/plain": [
       "<Figure size 864x432 with 1 Axes>"
      ]
     },
     "metadata": {
      "image/png": {
       "height": 357,
       "width": 706
      },
      "needs_background": "light"
     },
     "output_type": "display_data"
    },
    {
     "name": "stdout",
     "output_type": "stream",
     "text": [
      "('Random Security', 2.946, 0.2299130270341374)\n",
      "('Best Battery', 2.8634, 0.22506985582258682)\n",
      "('Best Time', 3.2666000000000004, 0.1792663939504557)\n",
      "('Best Security', 4.0, 0.0)\n",
      "('Random No Sec', 2.8464, 0.23609963998278352)\n",
      "('Wifi Priv Pc No Sec', 3.4015999999999997, 0.1339755201520039)\n",
      "('Commercial Cloud No Sec', 2.8072000000000004, 0.2706070213427582)\n"
     ]
    }
   ],
   "source": [
    "# bezp\n",
    "x = [s[0] for s in strategies]\n",
    "Y_mean, Y_std = list(zip(*[s[1][0] for s in strategies]))\n",
    "plt.bar(x, Y_mean, yerr=Y_std)\n",
    "plt.show()\n",
    "print(*list(zip(x, Y_mean, Y_std)), sep='\\n')"
   ]
  },
  {
   "cell_type": "code",
   "execution_count": 9,
   "id": "encouraging-supply",
   "metadata": {},
   "outputs": [
    {
     "data": {
      "image/png": "[encoded data removed]",
      "text/plain": [
       "<Figure size 864x432 with 1 Axes>"
      ]
     },
     "metadata": {
      "image/png": {
       "height": 357,
       "width": 713
      },
      "needs_background": "light"
     },
     "output_type": "display_data"
    },
    {
     "name": "stdout",
     "output_type": "stream",
     "text": [
      "('Random Security', 0.17558939940893173, 0.020452204656286572)\n",
      "('Best Battery', 0.1373061471820679, 0.021991482810709107)\n",
      "('Best Time', 0.14671289277612304, 0.021149348278198615)\n",
      "('Best Security', 0.2316509955103918, 0.02306947985708234)\n",
      "('Random No Sec', 0.17072478789492307, 0.020750025510562643)\n",
      "('Wifi Priv Pc No Sec', 0.1680755778374422, 0.025311174118276363)\n",
      "('Commercial Cloud No Sec', 0.18900508144634795, 0.022034443789106472)\n"
     ]
    }
   ],
   "source": [
    "# battery\n",
    "x = [s[0] for s in strategies]\n",
    "Y_mean, Y_std = list(zip(*[s[1][1] for s in strategies]))\n",
    "plt.bar(x, Y_mean, yerr=Y_std)\n",
    "plt.show()\n",
    "print(*list(zip(x, Y_mean, Y_std)), sep='\\n')"
   ]
  },
  {
   "cell_type": "code",
   "execution_count": 10,
   "id": "contemporary-popularity",
   "metadata": {},
   "outputs": [
    {
     "data": {
      "image/png": "[encoded data removed]",
      "text/plain": [
       "<Figure size 864x432 with 1 Axes>"
      ]
     },
     "metadata": {
      "image/png": {
       "height": 357,
       "width": 703
      },
      "needs_background": "light"
     },
     "output_type": "display_data"
    },
    {
     "name": "stdout",
     "output_type": "stream",
     "text": [
      "('Random Security', 34.315711260747435, 4.067189492730708)\n",
      "('Best Battery', 26.660155286368752, 3.2288780543787956)\n",
      "('Best Time', 23.246366680787563, 2.967881099383131)\n",
      "('Best Security', 32.445470380781444, 3.4436668370656394)\n",
      "('Random No Sec', 35.097801639968615, 4.202022387428955)\n",
      "('Wifi Priv Pc No Sec', 26.250952893740795, 3.4737836920742295)\n",
      "('Commercial Cloud No Sec', 37.14141418182028, 4.226333138575807)\n"
     ]
    }
   ],
   "source": [
    "# time\n",
    "x = [s[0] for s in strategies]\n",
    "Y_mean, Y_std = list(zip(*[s[1][2] for s in strategies]))\n",
    "plt.bar(x, Y_mean, yerr=Y_std)\n",
    "plt.show()\n",
    "print(*list(zip(x, Y_mean, Y_std)), sep='\\n')"
   ]
  },
  {
   "cell_type": "code",
   "execution_count": null,
   "id": "peaceful-remark",
   "metadata": {},
   "outputs": [],
   "source": []
  }
 ],
 "metadata": {
  "kernelspec": {
   "display_name": "Python 3",
   "language": "python",
   "name": "python3"
  },
  "language_info": {
   "codemirror_mode": {
    "name": "ipython",
    "version": 3
   },
   "file_extension": ".py",
   "mimetype": "text/x-python",
   "name": "python",
   "nbconvert_exporter": "python",
   "pygments_lexer": "ipython3",
   "version": "3.8.9"
  }
 },
 "nbformat": 4,
 "nbformat_minor": 5
}
